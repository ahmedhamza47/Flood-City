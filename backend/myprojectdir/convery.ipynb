{
 "cells": [
  {
   "cell_type": "code",
   "execution_count": 7,
   "id": "d6e9d808",
   "metadata": {},
   "outputs": [
    {
     "name": "stdout",
     "output_type": "stream",
     "text": [
      "                 dateTime\n",
      "0     2018-01-11 11:00:00\n",
      "1     2018-01-11 12:00:00\n",
      "2     2018-01-11 13:00:00\n",
      "3     2018-01-11 14:00:00\n",
      "4     2018-01-11 15:00:00\n",
      "...                   ...\n",
      "34832 2022-01-01 19:00:00\n",
      "34833 2022-01-01 20:00:00\n",
      "34834 2022-01-01 21:00:00\n",
      "34835 2022-01-01 22:00:00\n",
      "34836 2022-01-01 23:00:00\n",
      "\n",
      "[34837 rows x 1 columns]\n"
     ]
    },
    {
     "name": "stderr",
     "output_type": "stream",
     "text": [
      "/tmp/ipykernel_1890/3093076902.py:13: FutureWarning: The default value of numeric_only in DataFrameGroupBy.mean is deprecated. In a future version, numeric_only will default to False. Either specify numeric_only or select only columns which should be valid for the function.\n",
      "  df_hourly = df.resample('H').mean()\n"
     ]
    }
   ],
   "source": [
    "import pandas as pd\n",
    "\n",
    "# Read CSV file into a pandas DataFrame\n",
    "df = pd.read_csv('chisapani_all.csv')\n",
    "\n",
    "# Convert the 'dateTime' column to a datetime data type\n",
    "df['dateTime'] = pd.to_datetime(df['dateTime'])\n",
    "\n",
    "# Set 'dateTime' column as the index\n",
    "df = df.set_index('dateTime')\n",
    "\n",
    "# Resample the data by hour and take the mean value\n",
    "df_hourly = df.resample('H').mean()\n",
    "\n",
    "# Reset the index to make 'dateTime' a column again\n",
    "df_hourly = df_hourly.reset_index()\n",
    "\n",
    "# Print the final DataFrame\n",
    "print(df_hourly)\n"
   ]
  },
  {
   "cell_type": "code",
   "execution_count": null,
   "id": "3d155616",
   "metadata": {},
   "outputs": [],
   "source": []
  }
 ],
 "metadata": {
  "kernelspec": {
   "display_name": "Python 3 (ipykernel)",
   "language": "python",
   "name": "python3"
  },
  "language_info": {
   "codemirror_mode": {
    "name": "ipython",
    "version": 3
   },
   "file_extension": ".py",
   "mimetype": "text/x-python",
   "name": "python",
   "nbconvert_exporter": "python",
   "pygments_lexer": "ipython3",
   "version": "3.9.2"
  }
 },
 "nbformat": 4,
 "nbformat_minor": 5
}
